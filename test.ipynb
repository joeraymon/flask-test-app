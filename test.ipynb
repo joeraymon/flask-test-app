{
 "cells": [
  {
   "cell_type": "code",
   "execution_count": 13,
   "metadata": {},
   "outputs": [],
   "source": [
    "import ssl\n",
    "import os\n",
    "import pg8000"
   ]
  },
  {
   "cell_type": "code",
   "execution_count": 14,
   "metadata": {},
   "outputs": [],
   "source": [
    "ssl_context = ssl.create_default_context()\n",
    "ssl_context.check_hostname = False  # Disable hostname checking if needed\n",
    "ssl_context.verify_mode = ssl.CERT_NONE  # Adjust verification mode as needed"
   ]
  },
  {
   "cell_type": "code",
   "execution_count": 15,
   "metadata": {},
   "outputs": [],
   "source": [
    "# Connect to the database\n",
    "conn = pg8000.connect(\n",
    "    host=os.getenv('POSTGRES_HOST'),\n",
    "    database=os.getenv('POSTGRES_DATABASE'),\n",
    "    user=os.getenv('POSTGRES_USER'),\n",
    "    password=os.getenv('POSTGRES_PASSWORD'),\n",
    "    ssl_context=ssl_context\n",
    ")\n"
   ]
  },
  {
   "cell_type": "code",
   "execution_count": 16,
   "metadata": {},
   "outputs": [
    {
     "data": {
      "text/plain": [
       "<pg8000.legacy.Cursor at 0x1132bbe20>"
      ]
     },
     "execution_count": 16,
     "metadata": {},
     "output_type": "execute_result"
    }
   ],
   "source": [
    "# Create a cursor\n",
    "cur = conn.cursor()\n",
    "\n",
    "# Start a transaction\n",
    "cur.execute(\"BEGIN\")\n",
    "\n",
    "# Create the table\n",
    "cur.execute(\"\"\"\n",
    "    CREATE TABLE IF NOT EXISTS test_table (\n",
    "        id SERIAL PRIMARY KEY,\n",
    "        name VARCHAR(50) NOT NULL,\n",
    "        age INT,\n",
    "        email VARCHAR(100) UNIQUE\n",
    "    )\n",
    "\"\"\")\n",
    "\n",
    "# Insert data into the table\n",
    "cur.execute(\"\"\"\n",
    "    INSERT INTO test_table (name, age, email)\n",
    "    VALUES\n",
    "        ('John Doe', 32, 'john.doe@example.com'),\n",
    "        ('Jane Smith', 27, 'jane.smith@test.com'),\n",
    "        ('Bob Johnson', NULL, 'bob@company.org'),\n",
    "        ('Alice Williams', 45, 'alice@gmail.com')\n",
    "\"\"\")\n",
    "\n",
    "# Commit the transaction\n",
    "cur.execute(\"COMMIT\")\n"
   ]
  },
  {
   "cell_type": "code",
   "execution_count": 18,
   "metadata": {},
   "outputs": [],
   "source": [
    "result = cur.execute('select * from test_table')"
   ]
  },
  {
   "cell_type": "code",
   "execution_count": 19,
   "metadata": {},
   "outputs": [
    {
     "data": {
      "text/plain": [
       "([1, 'John Doe', 32, 'john.doe@example.com'],\n",
       " [2, 'Jane Smith', 27, 'jane.smith@test.com'],\n",
       " [3, 'Bob Johnson', None, 'bob@company.org'],\n",
       " [4, 'Alice Williams', 45, 'alice@gmail.com'])"
      ]
     },
     "execution_count": 19,
     "metadata": {},
     "output_type": "execute_result"
    }
   ],
   "source": [
    "result.fetchall()"
   ]
  },
  {
   "cell_type": "code",
   "execution_count": null,
   "metadata": {},
   "outputs": [],
   "source": []
  }
 ],
 "metadata": {
  "kernelspec": {
   "display_name": "Python 3",
   "language": "python",
   "name": "python3"
  },
  "language_info": {
   "codemirror_mode": {
    "name": "ipython",
    "version": 3
   },
   "file_extension": ".py",
   "mimetype": "text/x-python",
   "name": "python",
   "nbconvert_exporter": "python",
   "pygments_lexer": "ipython3",
   "version": "3.9.6"
  }
 },
 "nbformat": 4,
 "nbformat_minor": 2
}
